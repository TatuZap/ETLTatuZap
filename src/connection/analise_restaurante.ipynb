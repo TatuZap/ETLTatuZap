{
 "cells": [
  {
   "cell_type": "code",
   "execution_count": 164,
   "metadata": {},
   "outputs": [],
   "source": [
    "import raspador_restaurante\n",
    "import json\n",
    "import pandas as pd #PRECISA"
   ]
  },
  {
   "cell_type": "code",
   "execution_count": 165,
   "metadata": {},
   "outputs": [],
   "source": [
    "df = raspador_restaurante.tables_on_page"
   ]
  },
  {
   "cell_type": "code",
   "execution_count": 166,
   "metadata": {},
   "outputs": [
    {
     "data": {
      "text/html": [
       "<div>\n",
       "<style scoped>\n",
       "    .dataframe tbody tr th:only-of-type {\n",
       "        vertical-align: middle;\n",
       "    }\n",
       "\n",
       "    .dataframe tbody tr th {\n",
       "        vertical-align: top;\n",
       "    }\n",
       "\n",
       "    .dataframe thead th {\n",
       "        text-align: right;\n",
       "    }\n",
       "</style>\n",
       "<table border=\"1\" class=\"dataframe\">\n",
       "  <thead>\n",
       "    <tr style=\"text-align: right;\">\n",
       "      <th></th>\n",
       "      <th>0</th>\n",
       "      <th>1</th>\n",
       "    </tr>\n",
       "  </thead>\n",
       "  <tbody>\n",
       "    <tr>\n",
       "      <th>0</th>\n",
       "      <td>21/11 • Seg</td>\n",
       "      <td>Ingredientes</td>\n",
       "    </tr>\n",
       "    <tr>\n",
       "      <th>1</th>\n",
       "      <td>Almoço  Prato Principal: File de frango grelha...</td>\n",
       "      <td>Almôndegas de PTS ao sugo: Soja texturizada gr...</td>\n",
       "    </tr>\n",
       "    <tr>\n",
       "      <th>2</th>\n",
       "      <td>22/11 • Ter</td>\n",
       "      <td>Ingredientes</td>\n",
       "    </tr>\n",
       "    <tr>\n",
       "      <th>3</th>\n",
       "      <td>Almoço  Prato Principal: Carne Moída com azeit...</td>\n",
       "      <td>Omelete de Forno com Legumes: Ovo de galinha, ...</td>\n",
       "    </tr>\n",
       "    <tr>\n",
       "      <th>4</th>\n",
       "      <td>23/11 • Qua</td>\n",
       "      <td>Ingredientes</td>\n",
       "    </tr>\n",
       "    <tr>\n",
       "      <th>5</th>\n",
       "      <td>Almoço  Prato Principal: Frango Assado Opção s...</td>\n",
       "      <td>Quibe de PTS: alho, salsinha, cebola, sal, soj...</td>\n",
       "    </tr>\n",
       "    <tr>\n",
       "      <th>6</th>\n",
       "      <td>24/11 • Qui</td>\n",
       "      <td>Ingredientes</td>\n",
       "    </tr>\n",
       "    <tr>\n",
       "      <th>7</th>\n",
       "      <td>Almoço  Prato Principal: Bife Acebolado Opção ...</td>\n",
       "      <td>Croquete de ervilha seca: cebola, sal, ervilha...</td>\n",
       "    </tr>\n",
       "    <tr>\n",
       "      <th>8</th>\n",
       "      <td>25/11 • Sex</td>\n",
       "      <td>Ingredientes</td>\n",
       "    </tr>\n",
       "    <tr>\n",
       "      <th>9</th>\n",
       "      <td>Almoço  Prato Principal: Filé de peixe ao molh...</td>\n",
       "      <td>Chilli vegano : Alho, cebola, pimentão verde, ...</td>\n",
       "    </tr>\n",
       "    <tr>\n",
       "      <th>10</th>\n",
       "      <td>26/11 • Sáb</td>\n",
       "      <td>Ingredientes</td>\n",
       "    </tr>\n",
       "    <tr>\n",
       "      <th>11</th>\n",
       "      <td>Almoço  Prato Principal: Frango Assado ao Molh...</td>\n",
       "      <td>Feijão branco com couve-flor: Feijão branco co...</td>\n",
       "    </tr>\n",
       "  </tbody>\n",
       "</table>\n",
       "</div>"
      ],
      "text/plain": [
       "                                                    0  \\\n",
       "0                                         21/11 • Seg   \n",
       "1   Almoço  Prato Principal: File de frango grelha...   \n",
       "2                                         22/11 • Ter   \n",
       "3   Almoço  Prato Principal: Carne Moída com azeit...   \n",
       "4                                         23/11 • Qua   \n",
       "5   Almoço  Prato Principal: Frango Assado Opção s...   \n",
       "6                                         24/11 • Qui   \n",
       "7   Almoço  Prato Principal: Bife Acebolado Opção ...   \n",
       "8                                         25/11 • Sex   \n",
       "9   Almoço  Prato Principal: Filé de peixe ao molh...   \n",
       "10                                        26/11 • Sáb   \n",
       "11  Almoço  Prato Principal: Frango Assado ao Molh...   \n",
       "\n",
       "                                                    1  \n",
       "0                                        Ingredientes  \n",
       "1   Almôndegas de PTS ao sugo: Soja texturizada gr...  \n",
       "2                                        Ingredientes  \n",
       "3   Omelete de Forno com Legumes: Ovo de galinha, ...  \n",
       "4                                        Ingredientes  \n",
       "5   Quibe de PTS: alho, salsinha, cebola, sal, soj...  \n",
       "6                                        Ingredientes  \n",
       "7   Croquete de ervilha seca: cebola, sal, ervilha...  \n",
       "8                                        Ingredientes  \n",
       "9   Chilli vegano : Alho, cebola, pimentão verde, ...  \n",
       "10                                       Ingredientes  \n",
       "11  Feijão branco com couve-flor: Feijão branco co...  "
      ]
     },
     "metadata": {},
     "output_type": "display_data"
    }
   ],
   "source": [
    "display(df)"
   ]
  },
  {
   "cell_type": "code",
   "execution_count": 167,
   "metadata": {},
   "outputs": [],
   "source": [
    "# seleciona a tabela que foi raspada do site da ufabc\n",
    "\n",
    "df = df.drop(1,axis=\"columns\") # dropa o campo de informações #PRECISA"
   ]
  },
  {
   "cell_type": "code",
   "execution_count": 168,
   "metadata": {},
   "outputs": [
    {
     "data": {
      "text/html": [
       "<div>\n",
       "<style scoped>\n",
       "    .dataframe tbody tr th:only-of-type {\n",
       "        vertical-align: middle;\n",
       "    }\n",
       "\n",
       "    .dataframe tbody tr th {\n",
       "        vertical-align: top;\n",
       "    }\n",
       "\n",
       "    .dataframe thead th {\n",
       "        text-align: right;\n",
       "    }\n",
       "</style>\n",
       "<table border=\"1\" class=\"dataframe\">\n",
       "  <thead>\n",
       "    <tr style=\"text-align: right;\">\n",
       "      <th></th>\n",
       "      <th>0</th>\n",
       "    </tr>\n",
       "  </thead>\n",
       "  <tbody>\n",
       "    <tr>\n",
       "      <th>0</th>\n",
       "      <td>21/11 • Seg</td>\n",
       "    </tr>\n",
       "    <tr>\n",
       "      <th>1</th>\n",
       "      <td>Almoço  Prato Principal: File de frango grelha...</td>\n",
       "    </tr>\n",
       "    <tr>\n",
       "      <th>2</th>\n",
       "      <td>22/11 • Ter</td>\n",
       "    </tr>\n",
       "    <tr>\n",
       "      <th>3</th>\n",
       "      <td>Almoço  Prato Principal: Carne Moída com azeit...</td>\n",
       "    </tr>\n",
       "    <tr>\n",
       "      <th>4</th>\n",
       "      <td>23/11 • Qua</td>\n",
       "    </tr>\n",
       "    <tr>\n",
       "      <th>5</th>\n",
       "      <td>Almoço  Prato Principal: Frango Assado Opção s...</td>\n",
       "    </tr>\n",
       "    <tr>\n",
       "      <th>6</th>\n",
       "      <td>24/11 • Qui</td>\n",
       "    </tr>\n",
       "    <tr>\n",
       "      <th>7</th>\n",
       "      <td>Almoço  Prato Principal: Bife Acebolado Opção ...</td>\n",
       "    </tr>\n",
       "    <tr>\n",
       "      <th>8</th>\n",
       "      <td>25/11 • Sex</td>\n",
       "    </tr>\n",
       "    <tr>\n",
       "      <th>9</th>\n",
       "      <td>Almoço  Prato Principal: Filé de peixe ao molh...</td>\n",
       "    </tr>\n",
       "    <tr>\n",
       "      <th>10</th>\n",
       "      <td>26/11 • Sáb</td>\n",
       "    </tr>\n",
       "    <tr>\n",
       "      <th>11</th>\n",
       "      <td>Almoço  Prato Principal: Frango Assado ao Molh...</td>\n",
       "    </tr>\n",
       "  </tbody>\n",
       "</table>\n",
       "</div>"
      ],
      "text/plain": [
       "                                                    0\n",
       "0                                         21/11 • Seg\n",
       "1   Almoço  Prato Principal: File de frango grelha...\n",
       "2                                         22/11 • Ter\n",
       "3   Almoço  Prato Principal: Carne Moída com azeit...\n",
       "4                                         23/11 • Qua\n",
       "5   Almoço  Prato Principal: Frango Assado Opção s...\n",
       "6                                         24/11 • Qui\n",
       "7   Almoço  Prato Principal: Bife Acebolado Opção ...\n",
       "8                                         25/11 • Sex\n",
       "9   Almoço  Prato Principal: Filé de peixe ao molh...\n",
       "10                                        26/11 • Sáb\n",
       "11  Almoço  Prato Principal: Frango Assado ao Molh..."
      ]
     },
     "execution_count": 168,
     "metadata": {},
     "output_type": "execute_result"
    }
   ],
   "source": [
    "df"
   ]
  },
  {
   "cell_type": "code",
   "execution_count": 169,
   "metadata": {},
   "outputs": [
    {
     "data": {
      "text/plain": [
       "(12, 1)"
      ]
     },
     "execution_count": 169,
     "metadata": {},
     "output_type": "execute_result"
    }
   ],
   "source": [
    "df.shape # qual o tamanho do dataframe"
   ]
  },
  {
   "cell_type": "code",
   "execution_count": 170,
   "metadata": {},
   "outputs": [],
   "source": [
    "# separa os indices pares dos indices impares (Data e dia das informações do almoço)\n",
    "df_dias = df.iloc[[ x for x in range(0,df.shape[0],2)]]\n",
    "df_comida = df.iloc[[ x for x in range(1,df.shape[0],2)]] #PRECISA"
   ]
  },
  {
   "cell_type": "code",
   "execution_count": 171,
   "metadata": {},
   "outputs": [],
   "source": [
    "df_dias = df_dias.rename(columns={0:\"data\"}) # renomeia a coluna dos dias\n",
    "df_comida = df_comida.rename(columns={0:\"informacoes\"}) # renomeia a coluna da comida #PRECISA"
   ]
  },
  {
   "cell_type": "code",
   "execution_count": 172,
   "metadata": {},
   "outputs": [],
   "source": [
    "df_comida[\"informacoes\"] = df_comida[\"informacoes\"].apply( lambda str : str.lower() )"
   ]
  },
  {
   "cell_type": "code",
   "execution_count": 173,
   "metadata": {},
   "outputs": [],
   "source": [
    "df_dias[['data','dia_semana']] = df_dias[\"data\"].str.split(\" • \",expand=True,) #PRECISA\n",
    "df_dias[\"dia_semana\"] = df_dias[\"dia_semana\"].apply( lambda string_day: list(filter(lambda x : x[1] == string_day, list(enumerate([\"Seg\",\"Ter\",\"Qua\",\"Qui\",\"Sex\",\"Sáb\"]))))[0][0])"
   ]
  },
  {
   "cell_type": "code",
   "execution_count": 174,
   "metadata": {},
   "outputs": [
    {
     "data": {
      "text/html": [
       "<div>\n",
       "<style scoped>\n",
       "    .dataframe tbody tr th:only-of-type {\n",
       "        vertical-align: middle;\n",
       "    }\n",
       "\n",
       "    .dataframe tbody tr th {\n",
       "        vertical-align: top;\n",
       "    }\n",
       "\n",
       "    .dataframe thead th {\n",
       "        text-align: right;\n",
       "    }\n",
       "</style>\n",
       "<table border=\"1\" class=\"dataframe\">\n",
       "  <thead>\n",
       "    <tr style=\"text-align: right;\">\n",
       "      <th></th>\n",
       "      <th>0</th>\n",
       "    </tr>\n",
       "  </thead>\n",
       "  <tbody>\n",
       "    <tr>\n",
       "      <th>0</th>\n",
       "      <td>21/11 • Seg</td>\n",
       "    </tr>\n",
       "    <tr>\n",
       "      <th>1</th>\n",
       "      <td>Almoço  Prato Principal: File de frango grelha...</td>\n",
       "    </tr>\n",
       "    <tr>\n",
       "      <th>2</th>\n",
       "      <td>22/11 • Ter</td>\n",
       "    </tr>\n",
       "    <tr>\n",
       "      <th>3</th>\n",
       "      <td>Almoço  Prato Principal: Carne Moída com azeit...</td>\n",
       "    </tr>\n",
       "    <tr>\n",
       "      <th>4</th>\n",
       "      <td>23/11 • Qua</td>\n",
       "    </tr>\n",
       "    <tr>\n",
       "      <th>5</th>\n",
       "      <td>Almoço  Prato Principal: Frango Assado Opção s...</td>\n",
       "    </tr>\n",
       "    <tr>\n",
       "      <th>6</th>\n",
       "      <td>24/11 • Qui</td>\n",
       "    </tr>\n",
       "    <tr>\n",
       "      <th>7</th>\n",
       "      <td>Almoço  Prato Principal: Bife Acebolado Opção ...</td>\n",
       "    </tr>\n",
       "    <tr>\n",
       "      <th>8</th>\n",
       "      <td>25/11 • Sex</td>\n",
       "    </tr>\n",
       "    <tr>\n",
       "      <th>9</th>\n",
       "      <td>Almoço  Prato Principal: Filé de peixe ao molh...</td>\n",
       "    </tr>\n",
       "    <tr>\n",
       "      <th>10</th>\n",
       "      <td>26/11 • Sáb</td>\n",
       "    </tr>\n",
       "    <tr>\n",
       "      <th>11</th>\n",
       "      <td>Almoço  Prato Principal: Frango Assado ao Molh...</td>\n",
       "    </tr>\n",
       "  </tbody>\n",
       "</table>\n",
       "</div>"
      ],
      "text/plain": [
       "                                                    0\n",
       "0                                         21/11 • Seg\n",
       "1   Almoço  Prato Principal: File de frango grelha...\n",
       "2                                         22/11 • Ter\n",
       "3   Almoço  Prato Principal: Carne Moída com azeit...\n",
       "4                                         23/11 • Qua\n",
       "5   Almoço  Prato Principal: Frango Assado Opção s...\n",
       "6                                         24/11 • Qui\n",
       "7   Almoço  Prato Principal: Bife Acebolado Opção ...\n",
       "8                                         25/11 • Sex\n",
       "9   Almoço  Prato Principal: Filé de peixe ao molh...\n",
       "10                                        26/11 • Sáb\n",
       "11  Almoço  Prato Principal: Frango Assado ao Molh..."
      ]
     },
     "execution_count": 174,
     "metadata": {},
     "output_type": "execute_result"
    }
   ],
   "source": [
    "df"
   ]
  },
  {
   "cell_type": "code",
   "execution_count": 175,
   "metadata": {},
   "outputs": [
    {
     "data": {
      "text/html": [
       "<div>\n",
       "<style scoped>\n",
       "    .dataframe tbody tr th:only-of-type {\n",
       "        vertical-align: middle;\n",
       "    }\n",
       "\n",
       "    .dataframe tbody tr th {\n",
       "        vertical-align: top;\n",
       "    }\n",
       "\n",
       "    .dataframe thead th {\n",
       "        text-align: right;\n",
       "    }\n",
       "</style>\n",
       "<table border=\"1\" class=\"dataframe\">\n",
       "  <thead>\n",
       "    <tr style=\"text-align: right;\">\n",
       "      <th></th>\n",
       "      <th>data</th>\n",
       "      <th>dia_semana</th>\n",
       "    </tr>\n",
       "  </thead>\n",
       "  <tbody>\n",
       "    <tr>\n",
       "      <th>0</th>\n",
       "      <td>21/11</td>\n",
       "      <td>0</td>\n",
       "    </tr>\n",
       "    <tr>\n",
       "      <th>2</th>\n",
       "      <td>22/11</td>\n",
       "      <td>1</td>\n",
       "    </tr>\n",
       "    <tr>\n",
       "      <th>4</th>\n",
       "      <td>23/11</td>\n",
       "      <td>2</td>\n",
       "    </tr>\n",
       "    <tr>\n",
       "      <th>6</th>\n",
       "      <td>24/11</td>\n",
       "      <td>3</td>\n",
       "    </tr>\n",
       "    <tr>\n",
       "      <th>8</th>\n",
       "      <td>25/11</td>\n",
       "      <td>4</td>\n",
       "    </tr>\n",
       "    <tr>\n",
       "      <th>10</th>\n",
       "      <td>26/11</td>\n",
       "      <td>5</td>\n",
       "    </tr>\n",
       "  </tbody>\n",
       "</table>\n",
       "</div>"
      ],
      "text/plain": [
       "     data  dia_semana\n",
       "0   21/11           0\n",
       "2   22/11           1\n",
       "4   23/11           2\n",
       "6   24/11           3\n",
       "8   25/11           4\n",
       "10  26/11           5"
      ]
     },
     "metadata": {},
     "output_type": "display_data"
    }
   ],
   "source": [
    "display(df_dias)"
   ]
  },
  {
   "cell_type": "code",
   "execution_count": 176,
   "metadata": {},
   "outputs": [
    {
     "data": {
      "text/html": [
       "<div>\n",
       "<style scoped>\n",
       "    .dataframe tbody tr th:only-of-type {\n",
       "        vertical-align: middle;\n",
       "    }\n",
       "\n",
       "    .dataframe tbody tr th {\n",
       "        vertical-align: top;\n",
       "    }\n",
       "\n",
       "    .dataframe thead th {\n",
       "        text-align: right;\n",
       "    }\n",
       "</style>\n",
       "<table border=\"1\" class=\"dataframe\">\n",
       "  <thead>\n",
       "    <tr style=\"text-align: right;\">\n",
       "      <th></th>\n",
       "      <th>informacoes</th>\n",
       "    </tr>\n",
       "  </thead>\n",
       "  <tbody>\n",
       "    <tr>\n",
       "      <th>1</th>\n",
       "      <td>almoço  prato principal: file de frango grelha...</td>\n",
       "    </tr>\n",
       "    <tr>\n",
       "      <th>3</th>\n",
       "      <td>almoço  prato principal: carne moída com azeit...</td>\n",
       "    </tr>\n",
       "    <tr>\n",
       "      <th>5</th>\n",
       "      <td>almoço  prato principal: frango assado opção s...</td>\n",
       "    </tr>\n",
       "    <tr>\n",
       "      <th>7</th>\n",
       "      <td>almoço  prato principal: bife acebolado opção ...</td>\n",
       "    </tr>\n",
       "    <tr>\n",
       "      <th>9</th>\n",
       "      <td>almoço  prato principal: filé de peixe ao molh...</td>\n",
       "    </tr>\n",
       "    <tr>\n",
       "      <th>11</th>\n",
       "      <td>almoço  prato principal: frango assado ao molh...</td>\n",
       "    </tr>\n",
       "  </tbody>\n",
       "</table>\n",
       "</div>"
      ],
      "text/plain": [
       "                                          informacoes\n",
       "1   almoço  prato principal: file de frango grelha...\n",
       "3   almoço  prato principal: carne moída com azeit...\n",
       "5   almoço  prato principal: frango assado opção s...\n",
       "7   almoço  prato principal: bife acebolado opção ...\n",
       "9   almoço  prato principal: filé de peixe ao molh...\n",
       "11  almoço  prato principal: frango assado ao molh..."
      ]
     },
     "metadata": {},
     "output_type": "display_data"
    }
   ],
   "source": [
    "display(df_comida)"
   ]
  },
  {
   "cell_type": "code",
   "execution_count": 177,
   "metadata": {},
   "outputs": [
    {
     "data": {
      "text/html": [
       "<div>\n",
       "<style scoped>\n",
       "    .dataframe tbody tr th:only-of-type {\n",
       "        vertical-align: middle;\n",
       "    }\n",
       "\n",
       "    .dataframe tbody tr th {\n",
       "        vertical-align: top;\n",
       "    }\n",
       "\n",
       "    .dataframe thead th {\n",
       "        text-align: right;\n",
       "    }\n",
       "</style>\n",
       "<table border=\"1\" class=\"dataframe\">\n",
       "  <thead>\n",
       "    <tr style=\"text-align: right;\">\n",
       "      <th></th>\n",
       "      <th>0</th>\n",
       "    </tr>\n",
       "  </thead>\n",
       "  <tbody>\n",
       "    <tr>\n",
       "      <th>1</th>\n",
       "      <td>almoço  prato principal: file de frango grelha...</td>\n",
       "    </tr>\n",
       "    <tr>\n",
       "      <th>3</th>\n",
       "      <td>almoço  prato principal: carne moída com azeit...</td>\n",
       "    </tr>\n",
       "    <tr>\n",
       "      <th>5</th>\n",
       "      <td>almoço  prato principal: frango assado opção s...</td>\n",
       "    </tr>\n",
       "    <tr>\n",
       "      <th>7</th>\n",
       "      <td>almoço  prato principal: bife acebolado opção ...</td>\n",
       "    </tr>\n",
       "    <tr>\n",
       "      <th>9</th>\n",
       "      <td>almoço  prato principal: filé de peixe ao molh...</td>\n",
       "    </tr>\n",
       "    <tr>\n",
       "      <th>11</th>\n",
       "      <td>almoço  prato principal: frango assado ao molh...</td>\n",
       "    </tr>\n",
       "  </tbody>\n",
       "</table>\n",
       "</div>"
      ],
      "text/plain": [
       "                                                    0\n",
       "1   almoço  prato principal: file de frango grelha...\n",
       "3   almoço  prato principal: carne moída com azeit...\n",
       "5   almoço  prato principal: frango assado opção s...\n",
       "7   almoço  prato principal: bife acebolado opção ...\n",
       "9   almoço  prato principal: filé de peixe ao molh...\n",
       "11  almoço  prato principal: frango assado ao molh..."
      ]
     },
     "execution_count": 177,
     "metadata": {},
     "output_type": "execute_result"
    }
   ],
   "source": [
    "df_comida[\"informacoes\"].str.split(r\"\\b(Almoço|Jantar|Saladas|Sobremesas)\\b\",expand=True,) "
   ]
  },
  {
   "cell_type": "code",
   "execution_count": 178,
   "metadata": {},
   "outputs": [
    {
     "ename": "KeyError",
     "evalue": "\"None of [Int64Index([2, 4, 6, 8], dtype='int64')] are in the [columns]\"",
     "output_type": "error",
     "traceback": [
      "\u001b[0;31m---------------------------------------------------------------------------\u001b[0m",
      "\u001b[0;31mKeyError\u001b[0m                                  Traceback (most recent call last)",
      "Cell \u001b[0;32mIn [178], line 2\u001b[0m\n\u001b[1;32m      1\u001b[0m \u001b[38;5;66;03m#PRECISA\u001b[39;00m\n\u001b[0;32m----> 2\u001b[0m df_comida[[\u001b[38;5;124m'\u001b[39m\u001b[38;5;124mAlmoço\u001b[39m\u001b[38;5;124m'\u001b[39m,\u001b[38;5;124m'\u001b[39m\u001b[38;5;124mJantar\u001b[39m\u001b[38;5;124m'\u001b[39m,\u001b[38;5;124m\"\u001b[39m\u001b[38;5;124mSaladas\u001b[39m\u001b[38;5;124m\"\u001b[39m,\u001b[38;5;124m\"\u001b[39m\u001b[38;5;124mSobremesas\u001b[39m\u001b[38;5;124m\"\u001b[39m]] \u001b[38;5;241m=\u001b[39m \u001b[43mdf_comida\u001b[49m\u001b[43m[\u001b[49m\u001b[38;5;124;43m\"\u001b[39;49m\u001b[38;5;124;43minformacoes\u001b[39;49m\u001b[38;5;124;43m\"\u001b[39;49m\u001b[43m]\u001b[49m\u001b[38;5;241;43m.\u001b[39;49m\u001b[43mstr\u001b[49m\u001b[38;5;241;43m.\u001b[39;49m\u001b[43msplit\u001b[49m\u001b[43m(\u001b[49m\u001b[38;5;124;43mr\u001b[39;49m\u001b[38;5;124;43m\"\u001b[39;49m\u001b[38;5;124;43m\\\u001b[39;49m\u001b[38;5;124;43mb(Almoço|Jantar|Saladas|Sobremesas)\u001b[39;49m\u001b[38;5;124;43m\\\u001b[39;49m\u001b[38;5;124;43mb\u001b[39;49m\u001b[38;5;124;43m\"\u001b[39;49m\u001b[43m,\u001b[49m\u001b[43mexpand\u001b[49m\u001b[38;5;241;43m=\u001b[39;49m\u001b[38;5;28;43;01mTrue\u001b[39;49;00m\u001b[43m,\u001b[49m\u001b[43m)\u001b[49m\u001b[43m[\u001b[49m\u001b[43m[\u001b[49m\u001b[38;5;241;43m2\u001b[39;49m\u001b[43m,\u001b[49m\u001b[38;5;241;43m4\u001b[39;49m\u001b[43m,\u001b[49m\u001b[38;5;241;43m6\u001b[39;49m\u001b[43m,\u001b[49m\u001b[38;5;241;43m8\u001b[39;49m\u001b[43m]\u001b[49m\u001b[43m]\u001b[49m\n",
      "File \u001b[0;32m~/Documentos/ETLTatuZap/venv/lib/python3.8/site-packages/pandas/core/frame.py:3810\u001b[0m, in \u001b[0;36mDataFrame.__getitem__\u001b[0;34m(self, key)\u001b[0m\n\u001b[1;32m   3808\u001b[0m     \u001b[39mif\u001b[39;00m is_iterator(key):\n\u001b[1;32m   3809\u001b[0m         key \u001b[39m=\u001b[39m \u001b[39mlist\u001b[39m(key)\n\u001b[0;32m-> 3810\u001b[0m     indexer \u001b[39m=\u001b[39m \u001b[39mself\u001b[39;49m\u001b[39m.\u001b[39;49mcolumns\u001b[39m.\u001b[39;49m_get_indexer_strict(key, \u001b[39m\"\u001b[39;49m\u001b[39mcolumns\u001b[39;49m\u001b[39m\"\u001b[39;49m)[\u001b[39m1\u001b[39m]\n\u001b[1;32m   3812\u001b[0m \u001b[39m# take() does not accept boolean indexers\u001b[39;00m\n\u001b[1;32m   3813\u001b[0m \u001b[39mif\u001b[39;00m \u001b[39mgetattr\u001b[39m(indexer, \u001b[39m\"\u001b[39m\u001b[39mdtype\u001b[39m\u001b[39m\"\u001b[39m, \u001b[39mNone\u001b[39;00m) \u001b[39m==\u001b[39m \u001b[39mbool\u001b[39m:\n",
      "File \u001b[0;32m~/Documentos/ETLTatuZap/venv/lib/python3.8/site-packages/pandas/core/indexes/base.py:6111\u001b[0m, in \u001b[0;36mIndex._get_indexer_strict\u001b[0;34m(self, key, axis_name)\u001b[0m\n\u001b[1;32m   6108\u001b[0m \u001b[39melse\u001b[39;00m:\n\u001b[1;32m   6109\u001b[0m     keyarr, indexer, new_indexer \u001b[39m=\u001b[39m \u001b[39mself\u001b[39m\u001b[39m.\u001b[39m_reindex_non_unique(keyarr)\n\u001b[0;32m-> 6111\u001b[0m \u001b[39mself\u001b[39;49m\u001b[39m.\u001b[39;49m_raise_if_missing(keyarr, indexer, axis_name)\n\u001b[1;32m   6113\u001b[0m keyarr \u001b[39m=\u001b[39m \u001b[39mself\u001b[39m\u001b[39m.\u001b[39mtake(indexer)\n\u001b[1;32m   6114\u001b[0m \u001b[39mif\u001b[39;00m \u001b[39misinstance\u001b[39m(key, Index):\n\u001b[1;32m   6115\u001b[0m     \u001b[39m# GH 42790 - Preserve name from an Index\u001b[39;00m\n",
      "File \u001b[0;32m~/Documentos/ETLTatuZap/venv/lib/python3.8/site-packages/pandas/core/indexes/base.py:6171\u001b[0m, in \u001b[0;36mIndex._raise_if_missing\u001b[0;34m(self, key, indexer, axis_name)\u001b[0m\n\u001b[1;32m   6169\u001b[0m     \u001b[39mif\u001b[39;00m use_interval_msg:\n\u001b[1;32m   6170\u001b[0m         key \u001b[39m=\u001b[39m \u001b[39mlist\u001b[39m(key)\n\u001b[0;32m-> 6171\u001b[0m     \u001b[39mraise\u001b[39;00m \u001b[39mKeyError\u001b[39;00m(\u001b[39mf\u001b[39m\u001b[39m\"\u001b[39m\u001b[39mNone of [\u001b[39m\u001b[39m{\u001b[39;00mkey\u001b[39m}\u001b[39;00m\u001b[39m] are in the [\u001b[39m\u001b[39m{\u001b[39;00maxis_name\u001b[39m}\u001b[39;00m\u001b[39m]\u001b[39m\u001b[39m\"\u001b[39m)\n\u001b[1;32m   6173\u001b[0m not_found \u001b[39m=\u001b[39m \u001b[39mlist\u001b[39m(ensure_index(key)[missing_mask\u001b[39m.\u001b[39mnonzero()[\u001b[39m0\u001b[39m]]\u001b[39m.\u001b[39munique())\n\u001b[1;32m   6174\u001b[0m \u001b[39mraise\u001b[39;00m \u001b[39mKeyError\u001b[39;00m(\u001b[39mf\u001b[39m\u001b[39m\"\u001b[39m\u001b[39m{\u001b[39;00mnot_found\u001b[39m}\u001b[39;00m\u001b[39m not in index\u001b[39m\u001b[39m\"\u001b[39m)\n",
      "\u001b[0;31mKeyError\u001b[0m: \"None of [Int64Index([2, 4, 6, 8], dtype='int64')] are in the [columns]\""
     ]
    }
   ],
   "source": [
    "\n",
    "#PRECISA\n",
    "df_comida[['Almoço','Jantar',\"Saladas\",\"Sobremesas\"]] = df_comida[\"informacoes\"].str.split(r\"\\b(almoço|jantar|saladas|sobremesas)\\b\",expand=True,)[[2,4,6,8]]"
   ]
  },
  {
   "cell_type": "code",
   "execution_count": null,
   "metadata": {},
   "outputs": [
    {
     "data": {
      "text/plain": [
       "1       Prato Principal: File de frango grelhado Opç...\n",
       "3       Prato Principal: Carne Moída com azeitona e ...\n",
       "5       Prato Principal: Frango Assado Opção sem car...\n",
       "7       Prato Principal: Bife Acebolado Opção sem ca...\n",
       "9       Prato Principal: Filé de peixe ao molho de l...\n",
       "11      Prato Principal: Frango Assado ao Molho de E...\n",
       "Name: Almoço, dtype: object"
      ]
     },
     "metadata": {},
     "output_type": "display_data"
    }
   ],
   "source": [
    "display(df_comida[\"Almoço\"])"
   ]
  },
  {
   "cell_type": "code",
   "execution_count": null,
   "metadata": {},
   "outputs": [],
   "source": [
    "#PRECISA\n",
    "df_comida.drop(\"informacoes\",inplace=True, axis=1)"
   ]
  },
  {
   "cell_type": "code",
   "execution_count": null,
   "metadata": {},
   "outputs": [
    {
     "data": {
      "text/html": [
       "<div>\n",
       "<style scoped>\n",
       "    .dataframe tbody tr th:only-of-type {\n",
       "        vertical-align: middle;\n",
       "    }\n",
       "\n",
       "    .dataframe tbody tr th {\n",
       "        vertical-align: top;\n",
       "    }\n",
       "\n",
       "    .dataframe thead th {\n",
       "        text-align: right;\n",
       "    }\n",
       "</style>\n",
       "<table border=\"1\" class=\"dataframe\">\n",
       "  <thead>\n",
       "    <tr style=\"text-align: right;\">\n",
       "      <th></th>\n",
       "      <th>Almoço</th>\n",
       "      <th>Jantar</th>\n",
       "      <th>Saladas</th>\n",
       "      <th>Sobremesas</th>\n",
       "    </tr>\n",
       "  </thead>\n",
       "  <tbody>\n",
       "    <tr>\n",
       "      <th>1</th>\n",
       "      <td>Prato Principal: File de frango grelhado Opç...</td>\n",
       "      <td>Prato Principal: Iscas de Carne ao Molho Rot...</td>\n",
       "      <td>Cenoura Ralada, Alface Crespa, Pepino</td>\n",
       "      <td>Pudim com Calda, Laranja</td>\n",
       "    </tr>\n",
       "    <tr>\n",
       "      <th>3</th>\n",
       "      <td>Prato Principal: Carne Moída com azeitona e ...</td>\n",
       "      <td>Prato Principal: Cubos suínos ao molho de er...</td>\n",
       "      <td>Beterraba Ralada, Feijão Fradinho, Acelga</td>\n",
       "      <td>Gelatina de Limão, Maçã</td>\n",
       "    </tr>\n",
       "    <tr>\n",
       "      <th>5</th>\n",
       "      <td>Prato Principal: Frango Assado Opção sem car...</td>\n",
       "      <td>Prato Principal: Peixe ao molho branco Opção...</td>\n",
       "      <td>Escarola, Soja em Grão ao Vinagrete, Chuchu ...</td>\n",
       "      <td>Goiabada Cremosa, Abacaxi</td>\n",
       "    </tr>\n",
       "    <tr>\n",
       "      <th>7</th>\n",
       "      <td>Prato Principal: Bife Acebolado Opção sem ca...</td>\n",
       "      <td></td>\n",
       "      <td>Pepino, Grão de bico com salsa, Agridoce</td>\n",
       "      <td>Gelatina de cereja, Banana</td>\n",
       "    </tr>\n",
       "    <tr>\n",
       "      <th>9</th>\n",
       "      <td>Prato Principal: Filé de peixe ao molho de l...</td>\n",
       "      <td>Prato Principal: Carne Assada Opção sem carn...</td>\n",
       "      <td>Beterraba Ralada, Alface Crespa, Tomate e ce...</td>\n",
       "      <td>Maria-mole, Melão</td>\n",
       "    </tr>\n",
       "    <tr>\n",
       "      <th>11</th>\n",
       "      <td>Prato Principal: Frango Assado ao Molho de E...</td>\n",
       "      <td></td>\n",
       "      <td>Abobrinha Ralada, Acelga, Tabule</td>\n",
       "      <td>Doce de Abóbora, Melancia</td>\n",
       "    </tr>\n",
       "  </tbody>\n",
       "</table>\n",
       "</div>"
      ],
      "text/plain": [
       "                                               Almoço  \\\n",
       "1     Prato Principal: File de frango grelhado Opç...   \n",
       "3     Prato Principal: Carne Moída com azeitona e ...   \n",
       "5     Prato Principal: Frango Assado Opção sem car...   \n",
       "7     Prato Principal: Bife Acebolado Opção sem ca...   \n",
       "9     Prato Principal: Filé de peixe ao molho de l...   \n",
       "11    Prato Principal: Frango Assado ao Molho de E...   \n",
       "\n",
       "                                               Jantar  \\\n",
       "1     Prato Principal: Iscas de Carne ao Molho Rot...   \n",
       "3     Prato Principal: Cubos suínos ao molho de er...   \n",
       "5     Prato Principal: Peixe ao molho branco Opção...   \n",
       "7                                                       \n",
       "9     Prato Principal: Carne Assada Opção sem carn...   \n",
       "11                                                      \n",
       "\n",
       "                                              Saladas  \\\n",
       "1             Cenoura Ralada, Alface Crespa, Pepino     \n",
       "3         Beterraba Ralada, Feijão Fradinho, Acelga     \n",
       "5     Escarola, Soja em Grão ao Vinagrete, Chuchu ...   \n",
       "7          Pepino, Grão de bico com salsa, Agridoce     \n",
       "9     Beterraba Ralada, Alface Crespa, Tomate e ce...   \n",
       "11                 Abobrinha Ralada, Acelga, Tabule     \n",
       "\n",
       "                      Sobremesas  \n",
       "1       Pudim com Calda, Laranja  \n",
       "3        Gelatina de Limão, Maçã  \n",
       "5      Goiabada Cremosa, Abacaxi  \n",
       "7     Gelatina de cereja, Banana  \n",
       "9              Maria-mole, Melão  \n",
       "11     Doce de Abóbora, Melancia  "
      ]
     },
     "execution_count": 141,
     "metadata": {},
     "output_type": "execute_result"
    }
   ],
   "source": [
    "df_comida"
   ]
  },
  {
   "cell_type": "code",
   "execution_count": null,
   "metadata": {},
   "outputs": [
    {
     "data": {
      "text/html": [
       "<div>\n",
       "<style scoped>\n",
       "    .dataframe tbody tr th:only-of-type {\n",
       "        vertical-align: middle;\n",
       "    }\n",
       "\n",
       "    .dataframe tbody tr th {\n",
       "        vertical-align: top;\n",
       "    }\n",
       "\n",
       "    .dataframe thead th {\n",
       "        text-align: right;\n",
       "    }\n",
       "</style>\n",
       "<table border=\"1\" class=\"dataframe\">\n",
       "  <thead>\n",
       "    <tr style=\"text-align: right;\">\n",
       "      <th></th>\n",
       "      <th>data</th>\n",
       "      <th>dia_semana</th>\n",
       "    </tr>\n",
       "  </thead>\n",
       "  <tbody>\n",
       "    <tr>\n",
       "      <th>0</th>\n",
       "      <td>21/11</td>\n",
       "      <td>0</td>\n",
       "    </tr>\n",
       "    <tr>\n",
       "      <th>2</th>\n",
       "      <td>22/11</td>\n",
       "      <td>1</td>\n",
       "    </tr>\n",
       "    <tr>\n",
       "      <th>4</th>\n",
       "      <td>23/11</td>\n",
       "      <td>2</td>\n",
       "    </tr>\n",
       "    <tr>\n",
       "      <th>6</th>\n",
       "      <td>24/11</td>\n",
       "      <td>3</td>\n",
       "    </tr>\n",
       "    <tr>\n",
       "      <th>8</th>\n",
       "      <td>25/11</td>\n",
       "      <td>4</td>\n",
       "    </tr>\n",
       "    <tr>\n",
       "      <th>10</th>\n",
       "      <td>26/11</td>\n",
       "      <td>5</td>\n",
       "    </tr>\n",
       "  </tbody>\n",
       "</table>\n",
       "</div>"
      ],
      "text/plain": [
       "     data  dia_semana\n",
       "0   21/11           0\n",
       "2   22/11           1\n",
       "4   23/11           2\n",
       "6   24/11           3\n",
       "8   25/11           4\n",
       "10  26/11           5"
      ]
     },
     "execution_count": 142,
     "metadata": {},
     "output_type": "execute_result"
    }
   ],
   "source": [
    "df_dias"
   ]
  },
  {
   "cell_type": "code",
   "execution_count": null,
   "metadata": {},
   "outputs": [],
   "source": [
    "df_dias = df_dias.reset_index(drop=True)\n",
    "df_comida = df_comida.reset_index(drop=True) #PRECISA"
   ]
  },
  {
   "cell_type": "code",
   "execution_count": null,
   "metadata": {},
   "outputs": [],
   "source": [
    "df = pd.concat([df_dias, df_comida], axis=1,join=\"inner\") #PRECISA"
   ]
  },
  {
   "cell_type": "code",
   "execution_count": null,
   "metadata": {},
   "outputs": [
    {
     "data": {
      "text/html": [
       "<div>\n",
       "<style scoped>\n",
       "    .dataframe tbody tr th:only-of-type {\n",
       "        vertical-align: middle;\n",
       "    }\n",
       "\n",
       "    .dataframe tbody tr th {\n",
       "        vertical-align: top;\n",
       "    }\n",
       "\n",
       "    .dataframe thead th {\n",
       "        text-align: right;\n",
       "    }\n",
       "</style>\n",
       "<table border=\"1\" class=\"dataframe\">\n",
       "  <thead>\n",
       "    <tr style=\"text-align: right;\">\n",
       "      <th></th>\n",
       "      <th>data</th>\n",
       "      <th>dia_semana</th>\n",
       "      <th>Almoço</th>\n",
       "      <th>Jantar</th>\n",
       "      <th>Saladas</th>\n",
       "      <th>Sobremesas</th>\n",
       "    </tr>\n",
       "  </thead>\n",
       "  <tbody>\n",
       "    <tr>\n",
       "      <th>0</th>\n",
       "      <td>21/11</td>\n",
       "      <td>0</td>\n",
       "      <td>Prato Principal: File de frango grelhado Opç...</td>\n",
       "      <td>Prato Principal: Iscas de Carne ao Molho Rot...</td>\n",
       "      <td>Cenoura Ralada, Alface Crespa, Pepino</td>\n",
       "      <td>Pudim com Calda, Laranja</td>\n",
       "    </tr>\n",
       "    <tr>\n",
       "      <th>1</th>\n",
       "      <td>22/11</td>\n",
       "      <td>1</td>\n",
       "      <td>Prato Principal: Carne Moída com azeitona e ...</td>\n",
       "      <td>Prato Principal: Cubos suínos ao molho de er...</td>\n",
       "      <td>Beterraba Ralada, Feijão Fradinho, Acelga</td>\n",
       "      <td>Gelatina de Limão, Maçã</td>\n",
       "    </tr>\n",
       "    <tr>\n",
       "      <th>2</th>\n",
       "      <td>23/11</td>\n",
       "      <td>2</td>\n",
       "      <td>Prato Principal: Frango Assado Opção sem car...</td>\n",
       "      <td>Prato Principal: Peixe ao molho branco Opção...</td>\n",
       "      <td>Escarola, Soja em Grão ao Vinagrete, Chuchu ...</td>\n",
       "      <td>Goiabada Cremosa, Abacaxi</td>\n",
       "    </tr>\n",
       "    <tr>\n",
       "      <th>3</th>\n",
       "      <td>24/11</td>\n",
       "      <td>3</td>\n",
       "      <td>Prato Principal: Bife Acebolado Opção sem ca...</td>\n",
       "      <td></td>\n",
       "      <td>Pepino, Grão de bico com salsa, Agridoce</td>\n",
       "      <td>Gelatina de cereja, Banana</td>\n",
       "    </tr>\n",
       "    <tr>\n",
       "      <th>4</th>\n",
       "      <td>25/11</td>\n",
       "      <td>4</td>\n",
       "      <td>Prato Principal: Filé de peixe ao molho de l...</td>\n",
       "      <td>Prato Principal: Carne Assada Opção sem carn...</td>\n",
       "      <td>Beterraba Ralada, Alface Crespa, Tomate e ce...</td>\n",
       "      <td>Maria-mole, Melão</td>\n",
       "    </tr>\n",
       "    <tr>\n",
       "      <th>5</th>\n",
       "      <td>26/11</td>\n",
       "      <td>5</td>\n",
       "      <td>Prato Principal: Frango Assado ao Molho de E...</td>\n",
       "      <td></td>\n",
       "      <td>Abobrinha Ralada, Acelga, Tabule</td>\n",
       "      <td>Doce de Abóbora, Melancia</td>\n",
       "    </tr>\n",
       "  </tbody>\n",
       "</table>\n",
       "</div>"
      ],
      "text/plain": [
       "    data  dia_semana                                             Almoço  \\\n",
       "0  21/11           0    Prato Principal: File de frango grelhado Opç...   \n",
       "1  22/11           1    Prato Principal: Carne Moída com azeitona e ...   \n",
       "2  23/11           2    Prato Principal: Frango Assado Opção sem car...   \n",
       "3  24/11           3    Prato Principal: Bife Acebolado Opção sem ca...   \n",
       "4  25/11           4    Prato Principal: Filé de peixe ao molho de l...   \n",
       "5  26/11           5    Prato Principal: Frango Assado ao Molho de E...   \n",
       "\n",
       "                                              Jantar  \\\n",
       "0    Prato Principal: Iscas de Carne ao Molho Rot...   \n",
       "1    Prato Principal: Cubos suínos ao molho de er...   \n",
       "2    Prato Principal: Peixe ao molho branco Opção...   \n",
       "3                                                      \n",
       "4    Prato Principal: Carne Assada Opção sem carn...   \n",
       "5                                                      \n",
       "\n",
       "                                             Saladas  \\\n",
       "0            Cenoura Ralada, Alface Crespa, Pepino     \n",
       "1        Beterraba Ralada, Feijão Fradinho, Acelga     \n",
       "2    Escarola, Soja em Grão ao Vinagrete, Chuchu ...   \n",
       "3         Pepino, Grão de bico com salsa, Agridoce     \n",
       "4    Beterraba Ralada, Alface Crespa, Tomate e ce...   \n",
       "5                 Abobrinha Ralada, Acelga, Tabule     \n",
       "\n",
       "                     Sobremesas  \n",
       "0      Pudim com Calda, Laranja  \n",
       "1       Gelatina de Limão, Maçã  \n",
       "2     Goiabada Cremosa, Abacaxi  \n",
       "3    Gelatina de cereja, Banana  \n",
       "4             Maria-mole, Melão  \n",
       "5     Doce de Abóbora, Melancia  "
      ]
     },
     "metadata": {},
     "output_type": "display_data"
    }
   ],
   "source": [
    "display(df)"
   ]
  },
  {
   "cell_type": "code",
   "execution_count": null,
   "metadata": {},
   "outputs": [
    {
     "data": {
      "text/plain": [
       "[{'data': '21/11',\n",
       "  'dia_semana': 0,\n",
       "  'Almoço': '  Prato Principal: File de frango grelhado Opção sem carne: Almôndegas de PTS ao sugo Guarnição: Macarrão ao alho e óleo ',\n",
       "  'Jantar': '  Prato Principal: Iscas de Carne ao Molho Roty Opção sem carne: Hambúrguer de lentilha Guarnição: Farofa Colorida ',\n",
       "  'Saladas': '  Cenoura Ralada, Alface Crespa, Pepino  ',\n",
       "  'Sobremesas': '  Pudim com Calda, Laranja'},\n",
       " {'data': '22/11',\n",
       "  'dia_semana': 1,\n",
       "  'Almoço': '  Prato Principal: Carne Moída com azeitona e ovos Opção sem carne: Omelete de Forno com Legumes Guarnição: Abobrinha aromática ',\n",
       "  'Jantar': '  Prato Principal: Cubos suínos ao molho de ervas Opção sem carne: PTS refogada com ervilha Guarnição: Berinjela refogada ',\n",
       "  'Saladas': '  Beterraba Ralada, Feijão Fradinho, Acelga  ',\n",
       "  'Sobremesas': '  Gelatina de Limão, Maçã'},\n",
       " {'data': '23/11',\n",
       "  'dia_semana': 2,\n",
       "  'Almoço': '  Prato Principal: Frango Assado Opção sem carne: Quibe de PTS Guarnição: Creme de milho ',\n",
       "  'Jantar': '  Prato Principal: Peixe ao molho branco Opção sem carne: Torta de escarola e ricota Guarnição: Couve refogada ',\n",
       "  'Saladas': '  Escarola, Soja em Grão ao Vinagrete, Chuchu com salsa  ',\n",
       "  'Sobremesas': '  Goiabada Cremosa, Abacaxi'},\n",
       " {'data': '24/11',\n",
       "  'dia_semana': 3,\n",
       "  'Almoço': '  Prato Principal: Bife Acebolado Opção sem carne: Croquete de ervilha seca Guarnição: Chuchu ao forno ',\n",
       "  'Jantar': '  ',\n",
       "  'Saladas': '  Pepino, Grão de bico com salsa, Agridoce  ',\n",
       "  'Sobremesas': '  Gelatina de cereja, Banana'},\n",
       " {'data': '25/11',\n",
       "  'dia_semana': 4,\n",
       "  'Almoço': '  Prato Principal: Filé de peixe ao molho de limão Opção sem carne: Chilli vegano Guarnição: Batata rústica ',\n",
       "  'Jantar': '  Prato Principal: Carne Assada Opção sem carne: Falafel Guarnição: Creme de Espinafre ',\n",
       "  'Saladas': '  Beterraba Ralada, Alface Crespa, Tomate e cebola  ',\n",
       "  'Sobremesas': '  Maria-mole, Melão'},\n",
       " {'data': '26/11',\n",
       "  'dia_semana': 5,\n",
       "  'Almoço': '  Prato Principal: Frango Assado ao Molho de Ervas Opção sem carne: Feijão branco com couve-flor Guarnição: Escarola refogada ',\n",
       "  'Jantar': '  ',\n",
       "  'Saladas': '  Abobrinha Ralada, Acelga, Tabule  ',\n",
       "  'Sobremesas': '  Doce de Abóbora, Melancia'}]"
      ]
     },
     "execution_count": 146,
     "metadata": {},
     "output_type": "execute_result"
    }
   ],
   "source": [
    "json.loads(df.to_json(orient='records')) #PRECISA"
   ]
  },
  {
   "cell_type": "code",
   "execution_count": null,
   "metadata": {},
   "outputs": [
    {
     "data": {
      "text/plain": [
       "'\\nJson que guardaremos no Atlas\\n{\\n    \"data\" : \"15/11\",\\n    \"dia_semana\" : \"Terça-feira\",\\n    \\n    \"almoço\" : {\\n        \"Principal\":\"Prato Principal\",\\n        \"vegetariano:\":\"vegetariano\",\\n    },\\n    \"Jantar\" : {\\n        \"Principal\":\"Prato Principal\",\\n        \"vegetariano:\":\"vegetariano\",\\n\\n    }\\n        \"Guarnição\" : \"Guarnição\"\\n        \"salada\" : \"sobremesa\"\\n        \"sobremesa\" : \"sobremesa\"\\n}\\n'"
      ]
     },
     "execution_count": 147,
     "metadata": {},
     "output_type": "execute_result"
    }
   ],
   "source": [
    "\"\"\"\n",
    "Json que guardaremos no Atlas\n",
    "{\n",
    "    \"data\" : \"15/11\",\n",
    "    \"dia_semana\" : \"Terça-feira\",\n",
    "    \n",
    "    \"almoço\" : {\n",
    "        \"Principal\":\"Prato Principal\",\n",
    "        \"vegetariano:\":\"vegetariano\",\n",
    "    },\n",
    "    \"Jantar\" : {\n",
    "        \"Principal\":\"Prato Principal\",\n",
    "        \"vegetariano:\":\"vegetariano\",\n",
    "\n",
    "    }\n",
    "        \"Guarnição\" : \"Guarnição\"\n",
    "        \"salada\" : \"sobremesa\"\n",
    "        \"sobremesa\" : \"sobremesa\"\n",
    "}\n",
    "\"\"\"\n",
    "\n",
    "\n"
   ]
  },
  {
   "cell_type": "code",
   "execution_count": null,
   "metadata": {},
   "outputs": [
    {
     "ename": "SyntaxError",
     "evalue": "invalid syntax (3264250913.py, line 1)",
     "output_type": "error",
     "traceback": [
      "\u001b[0;36m  Cell \u001b[0;32mIn [148], line 1\u001b[0;36m\u001b[0m\n\u001b[0;31m    qual o almoço de hoje ?\u001b[0m\n\u001b[0m         ^\u001b[0m\n\u001b[0;31mSyntaxError\u001b[0m\u001b[0;31m:\u001b[0m invalid syntax\n"
     ]
    }
   ],
   "source": [
    "qual o almoço de hoje ?\n",
    "qual ru de amanha ? \n",
    "ru do dia 17/11 (sexta)"
   ]
  }
 ],
 "metadata": {
  "kernelspec": {
   "display_name": "Python 3.8.0 ('venv': venv)",
   "language": "python",
   "name": "python3"
  },
  "language_info": {
   "codemirror_mode": {
    "name": "ipython",
    "version": 3
   },
   "file_extension": ".py",
   "mimetype": "text/x-python",
   "name": "python",
   "nbconvert_exporter": "python",
   "pygments_lexer": "ipython3",
   "version": "3.8.0"
  },
  "orig_nbformat": 4,
  "vscode": {
   "interpreter": {
    "hash": "c5bedef499970840ad477fbdef9361e6005ba3e26634ee87f807ae9e001ba383"
   }
  }
 },
 "nbformat": 4,
 "nbformat_minor": 2
}
