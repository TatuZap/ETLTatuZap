{
 "cells": [
  {
   "cell_type": "code",
   "execution_count": 274,
   "metadata": {},
   "outputs": [],
   "source": [
    "import raspador_restaurante\n",
    "import json\n",
    "import pandas as pd #PRECISA"
   ]
  },
  {
   "cell_type": "code",
   "execution_count": 275,
   "metadata": {},
   "outputs": [],
   "source": [
    "# seleciona a tabela que foi raspada do site da ufabc\n",
    "df = raspador_restaurante.tables_on_page[0]\n",
    "df = df.drop(1, axis='columns') # dropa o campo de informações #PRECISA"
   ]
  },
  {
   "cell_type": "code",
   "execution_count": 276,
   "metadata": {},
   "outputs": [
    {
     "data": {
      "text/plain": [
       "(12, 1)"
      ]
     },
     "execution_count": 276,
     "metadata": {},
     "output_type": "execute_result"
    }
   ],
   "source": [
    "df.shape # qual o tamanho do dataframe"
   ]
  },
  {
   "cell_type": "code",
   "execution_count": 277,
   "metadata": {},
   "outputs": [],
   "source": [
    "# separa os indices pares dos indices impares (Data e dia das informações do almoço)\n",
    "df_dias = df.iloc[[ x for x in range(0,df.shape[0],2)]]\n",
    "df_comida = df.iloc[[ x for x in range(1,df.shape[0],2)]] #PRECISA"
   ]
  },
  {
   "cell_type": "code",
   "execution_count": 278,
   "metadata": {},
   "outputs": [],
   "source": [
    "df_dias = df_dias.rename(columns={0:\"data\"}) # renomeia a coluna dos dias\n",
    "df_comida = df_comida.rename(columns={0:\"informacoes\"}) # renomeia a coluna da comida #PRECISA"
   ]
  },
  {
   "cell_type": "code",
   "execution_count": 279,
   "metadata": {},
   "outputs": [],
   "source": [
    "df_dias[['data','dia_semana']] = df_dias[\"data\"].str.split(\" • \",expand=True,) #PRECISA"
   ]
  },
  {
   "cell_type": "code",
   "execution_count": 280,
   "metadata": {},
   "outputs": [
    {
     "data": {
      "text/html": [
       "<div>\n",
       "<style scoped>\n",
       "    .dataframe tbody tr th:only-of-type {\n",
       "        vertical-align: middle;\n",
       "    }\n",
       "\n",
       "    .dataframe tbody tr th {\n",
       "        vertical-align: top;\n",
       "    }\n",
       "\n",
       "    .dataframe thead th {\n",
       "        text-align: right;\n",
       "    }\n",
       "</style>\n",
       "<table border=\"1\" class=\"dataframe\">\n",
       "  <thead>\n",
       "    <tr style=\"text-align: right;\">\n",
       "      <th></th>\n",
       "      <th>data</th>\n",
       "      <th>dia_semana</th>\n",
       "    </tr>\n",
       "  </thead>\n",
       "  <tbody>\n",
       "    <tr>\n",
       "      <th>0</th>\n",
       "      <td>14/11</td>\n",
       "      <td>Seg</td>\n",
       "    </tr>\n",
       "    <tr>\n",
       "      <th>2</th>\n",
       "      <td>15/11</td>\n",
       "      <td>Ter</td>\n",
       "    </tr>\n",
       "    <tr>\n",
       "      <th>4</th>\n",
       "      <td>16/11</td>\n",
       "      <td>Qua</td>\n",
       "    </tr>\n",
       "    <tr>\n",
       "      <th>6</th>\n",
       "      <td>17/11</td>\n",
       "      <td>Qui</td>\n",
       "    </tr>\n",
       "    <tr>\n",
       "      <th>8</th>\n",
       "      <td>18/11</td>\n",
       "      <td>Sex</td>\n",
       "    </tr>\n",
       "    <tr>\n",
       "      <th>10</th>\n",
       "      <td>19/11</td>\n",
       "      <td>Sáb</td>\n",
       "    </tr>\n",
       "  </tbody>\n",
       "</table>\n",
       "</div>"
      ],
      "text/plain": [
       "     data dia_semana\n",
       "0   14/11        Seg\n",
       "2   15/11        Ter\n",
       "4   16/11        Qua\n",
       "6   17/11        Qui\n",
       "8   18/11        Sex\n",
       "10  19/11        Sáb"
      ]
     },
     "metadata": {},
     "output_type": "display_data"
    }
   ],
   "source": [
    "display(df_dias)"
   ]
  },
  {
   "cell_type": "code",
   "execution_count": 281,
   "metadata": {},
   "outputs": [
    {
     "data": {
      "text/html": [
       "<div>\n",
       "<style scoped>\n",
       "    .dataframe tbody tr th:only-of-type {\n",
       "        vertical-align: middle;\n",
       "    }\n",
       "\n",
       "    .dataframe tbody tr th {\n",
       "        vertical-align: top;\n",
       "    }\n",
       "\n",
       "    .dataframe thead th {\n",
       "        text-align: right;\n",
       "    }\n",
       "</style>\n",
       "<table border=\"1\" class=\"dataframe\">\n",
       "  <thead>\n",
       "    <tr style=\"text-align: right;\">\n",
       "      <th></th>\n",
       "      <th>informacoes</th>\n",
       "    </tr>\n",
       "  </thead>\n",
       "  <tbody>\n",
       "    <tr>\n",
       "      <th>1</th>\n",
       "      <td>Almoço  Jantar  Saladas  Sobremesas  RU Santo ...</td>\n",
       "    </tr>\n",
       "    <tr>\n",
       "      <th>3</th>\n",
       "      <td>Almoço  Jantar  Saladas  Sobremesas  RU Santo ...</td>\n",
       "    </tr>\n",
       "    <tr>\n",
       "      <th>5</th>\n",
       "      <td>Almoço  Prato Principal: Quibe de carne Opção ...</td>\n",
       "    </tr>\n",
       "    <tr>\n",
       "      <th>7</th>\n",
       "      <td>Almoço  Prato Principal: Cubos Suíno ao Chimic...</td>\n",
       "    </tr>\n",
       "    <tr>\n",
       "      <th>9</th>\n",
       "      <td>Almoço  Prato Principal: Bife Grelhado Opção s...</td>\n",
       "    </tr>\n",
       "    <tr>\n",
       "      <th>11</th>\n",
       "      <td>Almoço  Prato Principal: Frango à caçadora Opç...</td>\n",
       "    </tr>\n",
       "  </tbody>\n",
       "</table>\n",
       "</div>"
      ],
      "text/plain": [
       "                                          informacoes\n",
       "1   Almoço  Jantar  Saladas  Sobremesas  RU Santo ...\n",
       "3   Almoço  Jantar  Saladas  Sobremesas  RU Santo ...\n",
       "5   Almoço  Prato Principal: Quibe de carne Opção ...\n",
       "7   Almoço  Prato Principal: Cubos Suíno ao Chimic...\n",
       "9   Almoço  Prato Principal: Bife Grelhado Opção s...\n",
       "11  Almoço  Prato Principal: Frango à caçadora Opç..."
      ]
     },
     "metadata": {},
     "output_type": "display_data"
    }
   ],
   "source": [
    "display(df_comida)"
   ]
  },
  {
   "cell_type": "code",
   "execution_count": 282,
   "metadata": {},
   "outputs": [
    {
     "data": {
      "text/html": [
       "<div>\n",
       "<style scoped>\n",
       "    .dataframe tbody tr th:only-of-type {\n",
       "        vertical-align: middle;\n",
       "    }\n",
       "\n",
       "    .dataframe tbody tr th {\n",
       "        vertical-align: top;\n",
       "    }\n",
       "\n",
       "    .dataframe thead th {\n",
       "        text-align: right;\n",
       "    }\n",
       "</style>\n",
       "<table border=\"1\" class=\"dataframe\">\n",
       "  <thead>\n",
       "    <tr style=\"text-align: right;\">\n",
       "      <th></th>\n",
       "      <th>0</th>\n",
       "      <th>1</th>\n",
       "      <th>2</th>\n",
       "      <th>3</th>\n",
       "      <th>4</th>\n",
       "      <th>5</th>\n",
       "      <th>6</th>\n",
       "      <th>7</th>\n",
       "      <th>8</th>\n",
       "    </tr>\n",
       "  </thead>\n",
       "  <tbody>\n",
       "    <tr>\n",
       "      <th>1</th>\n",
       "      <td></td>\n",
       "      <td>Almoço</td>\n",
       "      <td></td>\n",
       "      <td>Jantar</td>\n",
       "      <td></td>\n",
       "      <td>Saladas</td>\n",
       "      <td></td>\n",
       "      <td>Sobremesas</td>\n",
       "      <td>RU Santo André fechado. Motivo: Emenda - Fer...</td>\n",
       "    </tr>\n",
       "    <tr>\n",
       "      <th>3</th>\n",
       "      <td></td>\n",
       "      <td>Almoço</td>\n",
       "      <td></td>\n",
       "      <td>Jantar</td>\n",
       "      <td></td>\n",
       "      <td>Saladas</td>\n",
       "      <td></td>\n",
       "      <td>Sobremesas</td>\n",
       "      <td>RU Santo André fechado. Motivo: Feriado RU S...</td>\n",
       "    </tr>\n",
       "    <tr>\n",
       "      <th>5</th>\n",
       "      <td></td>\n",
       "      <td>Almoço</td>\n",
       "      <td>Prato Principal: Quibe de carne Opção sem ca...</td>\n",
       "      <td>Jantar</td>\n",
       "      <td>Prato Principal: Filé de frango ao molho de ...</td>\n",
       "      <td>Saladas</td>\n",
       "      <td>Abobrinha Ralada, Alface Crespa, Grega</td>\n",
       "      <td>Sobremesas</td>\n",
       "      <td>Manjar de Coco, Maçã</td>\n",
       "    </tr>\n",
       "    <tr>\n",
       "      <th>7</th>\n",
       "      <td></td>\n",
       "      <td>Almoço</td>\n",
       "      <td>Prato Principal: Cubos Suíno ao Chimichurri ...</td>\n",
       "      <td>Jantar</td>\n",
       "      <td>Prato Principal: Carne de panela Opção sem c...</td>\n",
       "      <td>Saladas</td>\n",
       "      <td>Beterraba Ralada, Escarola, Cenoura Cozida</td>\n",
       "      <td>Sobremesas</td>\n",
       "      <td>Gelatina de cereja, Banana</td>\n",
       "    </tr>\n",
       "    <tr>\n",
       "      <th>9</th>\n",
       "      <td></td>\n",
       "      <td>Almoço</td>\n",
       "      <td>Prato Principal: Bife Grelhado Opção sem car...</td>\n",
       "      <td>Jantar</td>\n",
       "      <td>Prato Principal: Strogonoff de Frango Opção ...</td>\n",
       "      <td>Saladas</td>\n",
       "      <td>Acelga, Chuchu Ralado, Caponata</td>\n",
       "      <td>Sobremesas</td>\n",
       "      <td>Bebezinho, Laranja</td>\n",
       "    </tr>\n",
       "    <tr>\n",
       "      <th>11</th>\n",
       "      <td></td>\n",
       "      <td>Almoço</td>\n",
       "      <td>Prato Principal: Frango à caçadora Opção sem...</td>\n",
       "      <td>Jantar</td>\n",
       "      <td></td>\n",
       "      <td>Saladas</td>\n",
       "      <td>Cenoura Ralada, Alface Crespa, Tomate e cebo...</td>\n",
       "      <td>Sobremesas</td>\n",
       "      <td>Gelatina de Abacaxi, Melancia</td>\n",
       "    </tr>\n",
       "  </tbody>\n",
       "</table>\n",
       "</div>"
      ],
      "text/plain": [
       "   0       1                                                  2       3  \\\n",
       "1     Almoço                                                     Jantar   \n",
       "3     Almoço                                                     Jantar   \n",
       "5     Almoço    Prato Principal: Quibe de carne Opção sem ca...  Jantar   \n",
       "7     Almoço    Prato Principal: Cubos Suíno ao Chimichurri ...  Jantar   \n",
       "9     Almoço    Prato Principal: Bife Grelhado Opção sem car...  Jantar   \n",
       "11    Almoço    Prato Principal: Frango à caçadora Opção sem...  Jantar   \n",
       "\n",
       "                                                    4        5  \\\n",
       "1                                                      Saladas   \n",
       "3                                                      Saladas   \n",
       "5     Prato Principal: Filé de frango ao molho de ...  Saladas   \n",
       "7     Prato Principal: Carne de panela Opção sem c...  Saladas   \n",
       "9     Prato Principal: Strogonoff de Frango Opção ...  Saladas   \n",
       "11                                                     Saladas   \n",
       "\n",
       "                                                    6           7  \\\n",
       "1                                                      Sobremesas   \n",
       "3                                                      Sobremesas   \n",
       "5            Abobrinha Ralada, Alface Crespa, Grega    Sobremesas   \n",
       "7        Beterraba Ralada, Escarola, Cenoura Cozida    Sobremesas   \n",
       "9                   Acelga, Chuchu Ralado, Caponata    Sobremesas   \n",
       "11    Cenoura Ralada, Alface Crespa, Tomate e cebo...  Sobremesas   \n",
       "\n",
       "                                                    8  \n",
       "1     RU Santo André fechado. Motivo: Emenda - Fer...  \n",
       "3     RU Santo André fechado. Motivo: Feriado RU S...  \n",
       "5                                Manjar de Coco, Maçã  \n",
       "7                          Gelatina de cereja, Banana  \n",
       "9                                  Bebezinho, Laranja  \n",
       "11                      Gelatina de Abacaxi, Melancia  "
      ]
     },
     "execution_count": 282,
     "metadata": {},
     "output_type": "execute_result"
    }
   ],
   "source": [
    "df_comida[\"informacoes\"].str.split(r\"\\b(Almoço|Jantar|Saladas|Sobremesas)\\b\",expand=True,) "
   ]
  },
  {
   "cell_type": "code",
   "execution_count": 283,
   "metadata": {},
   "outputs": [],
   "source": [
    "\n",
    "#PRECISA\n",
    "df_comida[['Almoço','Jantar',\"Saladas\",\"Sobremesas\"]] = df_comida[\"informacoes\"].str.split(r\"\\b(Almoço|Jantar|Saladas|Sobremesas)\\b\",expand=True,)[[2,4,6,8]]"
   ]
  },
  {
   "cell_type": "code",
   "execution_count": 284,
   "metadata": {},
   "outputs": [
    {
     "data": {
      "text/plain": [
       "1                                                      \n",
       "3                                                      \n",
       "5       Prato Principal: Quibe de carne Opção sem ca...\n",
       "7       Prato Principal: Cubos Suíno ao Chimichurri ...\n",
       "9       Prato Principal: Bife Grelhado Opção sem car...\n",
       "11      Prato Principal: Frango à caçadora Opção sem...\n",
       "Name: Almoço, dtype: object"
      ]
     },
     "metadata": {},
     "output_type": "display_data"
    }
   ],
   "source": [
    "display(df_comida[\"Almoço\"])"
   ]
  },
  {
   "cell_type": "code",
   "execution_count": 285,
   "metadata": {},
   "outputs": [],
   "source": [
    "#PRECISA\n",
    "df_comida.drop(\"informacoes\",inplace=True, axis=1)"
   ]
  },
  {
   "cell_type": "code",
   "execution_count": 286,
   "metadata": {},
   "outputs": [
    {
     "data": {
      "text/html": [
       "<div>\n",
       "<style scoped>\n",
       "    .dataframe tbody tr th:only-of-type {\n",
       "        vertical-align: middle;\n",
       "    }\n",
       "\n",
       "    .dataframe tbody tr th {\n",
       "        vertical-align: top;\n",
       "    }\n",
       "\n",
       "    .dataframe thead th {\n",
       "        text-align: right;\n",
       "    }\n",
       "</style>\n",
       "<table border=\"1\" class=\"dataframe\">\n",
       "  <thead>\n",
       "    <tr style=\"text-align: right;\">\n",
       "      <th></th>\n",
       "      <th>Almoço</th>\n",
       "      <th>Jantar</th>\n",
       "      <th>Saladas</th>\n",
       "      <th>Sobremesas</th>\n",
       "    </tr>\n",
       "  </thead>\n",
       "  <tbody>\n",
       "    <tr>\n",
       "      <th>1</th>\n",
       "      <td></td>\n",
       "      <td></td>\n",
       "      <td></td>\n",
       "      <td>RU Santo André fechado. Motivo: Emenda - Fer...</td>\n",
       "    </tr>\n",
       "    <tr>\n",
       "      <th>3</th>\n",
       "      <td></td>\n",
       "      <td></td>\n",
       "      <td></td>\n",
       "      <td>RU Santo André fechado. Motivo: Feriado RU S...</td>\n",
       "    </tr>\n",
       "    <tr>\n",
       "      <th>5</th>\n",
       "      <td>Prato Principal: Quibe de carne Opção sem ca...</td>\n",
       "      <td>Prato Principal: Filé de frango ao molho de ...</td>\n",
       "      <td>Abobrinha Ralada, Alface Crespa, Grega</td>\n",
       "      <td>Manjar de Coco, Maçã</td>\n",
       "    </tr>\n",
       "    <tr>\n",
       "      <th>7</th>\n",
       "      <td>Prato Principal: Cubos Suíno ao Chimichurri ...</td>\n",
       "      <td>Prato Principal: Carne de panela Opção sem c...</td>\n",
       "      <td>Beterraba Ralada, Escarola, Cenoura Cozida</td>\n",
       "      <td>Gelatina de cereja, Banana</td>\n",
       "    </tr>\n",
       "    <tr>\n",
       "      <th>9</th>\n",
       "      <td>Prato Principal: Bife Grelhado Opção sem car...</td>\n",
       "      <td>Prato Principal: Strogonoff de Frango Opção ...</td>\n",
       "      <td>Acelga, Chuchu Ralado, Caponata</td>\n",
       "      <td>Bebezinho, Laranja</td>\n",
       "    </tr>\n",
       "    <tr>\n",
       "      <th>11</th>\n",
       "      <td>Prato Principal: Frango à caçadora Opção sem...</td>\n",
       "      <td></td>\n",
       "      <td>Cenoura Ralada, Alface Crespa, Tomate e cebo...</td>\n",
       "      <td>Gelatina de Abacaxi, Melancia</td>\n",
       "    </tr>\n",
       "  </tbody>\n",
       "</table>\n",
       "</div>"
      ],
      "text/plain": [
       "                                               Almoço  \\\n",
       "1                                                       \n",
       "3                                                       \n",
       "5     Prato Principal: Quibe de carne Opção sem ca...   \n",
       "7     Prato Principal: Cubos Suíno ao Chimichurri ...   \n",
       "9     Prato Principal: Bife Grelhado Opção sem car...   \n",
       "11    Prato Principal: Frango à caçadora Opção sem...   \n",
       "\n",
       "                                               Jantar  \\\n",
       "1                                                       \n",
       "3                                                       \n",
       "5     Prato Principal: Filé de frango ao molho de ...   \n",
       "7     Prato Principal: Carne de panela Opção sem c...   \n",
       "9     Prato Principal: Strogonoff de Frango Opção ...   \n",
       "11                                                      \n",
       "\n",
       "                                              Saladas  \\\n",
       "1                                                       \n",
       "3                                                       \n",
       "5            Abobrinha Ralada, Alface Crespa, Grega     \n",
       "7        Beterraba Ralada, Escarola, Cenoura Cozida     \n",
       "9                   Acelga, Chuchu Ralado, Caponata     \n",
       "11    Cenoura Ralada, Alface Crespa, Tomate e cebo...   \n",
       "\n",
       "                                           Sobremesas  \n",
       "1     RU Santo André fechado. Motivo: Emenda - Fer...  \n",
       "3     RU Santo André fechado. Motivo: Feriado RU S...  \n",
       "5                                Manjar de Coco, Maçã  \n",
       "7                          Gelatina de cereja, Banana  \n",
       "9                                  Bebezinho, Laranja  \n",
       "11                      Gelatina de Abacaxi, Melancia  "
      ]
     },
     "execution_count": 286,
     "metadata": {},
     "output_type": "execute_result"
    }
   ],
   "source": [
    "df_comida"
   ]
  },
  {
   "cell_type": "code",
   "execution_count": 287,
   "metadata": {},
   "outputs": [
    {
     "data": {
      "text/html": [
       "<div>\n",
       "<style scoped>\n",
       "    .dataframe tbody tr th:only-of-type {\n",
       "        vertical-align: middle;\n",
       "    }\n",
       "\n",
       "    .dataframe tbody tr th {\n",
       "        vertical-align: top;\n",
       "    }\n",
       "\n",
       "    .dataframe thead th {\n",
       "        text-align: right;\n",
       "    }\n",
       "</style>\n",
       "<table border=\"1\" class=\"dataframe\">\n",
       "  <thead>\n",
       "    <tr style=\"text-align: right;\">\n",
       "      <th></th>\n",
       "      <th>data</th>\n",
       "      <th>dia_semana</th>\n",
       "    </tr>\n",
       "  </thead>\n",
       "  <tbody>\n",
       "    <tr>\n",
       "      <th>0</th>\n",
       "      <td>14/11</td>\n",
       "      <td>Seg</td>\n",
       "    </tr>\n",
       "    <tr>\n",
       "      <th>2</th>\n",
       "      <td>15/11</td>\n",
       "      <td>Ter</td>\n",
       "    </tr>\n",
       "    <tr>\n",
       "      <th>4</th>\n",
       "      <td>16/11</td>\n",
       "      <td>Qua</td>\n",
       "    </tr>\n",
       "    <tr>\n",
       "      <th>6</th>\n",
       "      <td>17/11</td>\n",
       "      <td>Qui</td>\n",
       "    </tr>\n",
       "    <tr>\n",
       "      <th>8</th>\n",
       "      <td>18/11</td>\n",
       "      <td>Sex</td>\n",
       "    </tr>\n",
       "    <tr>\n",
       "      <th>10</th>\n",
       "      <td>19/11</td>\n",
       "      <td>Sáb</td>\n",
       "    </tr>\n",
       "  </tbody>\n",
       "</table>\n",
       "</div>"
      ],
      "text/plain": [
       "     data dia_semana\n",
       "0   14/11        Seg\n",
       "2   15/11        Ter\n",
       "4   16/11        Qua\n",
       "6   17/11        Qui\n",
       "8   18/11        Sex\n",
       "10  19/11        Sáb"
      ]
     },
     "execution_count": 287,
     "metadata": {},
     "output_type": "execute_result"
    }
   ],
   "source": [
    "df_dias"
   ]
  },
  {
   "cell_type": "code",
   "execution_count": 288,
   "metadata": {},
   "outputs": [],
   "source": [
    "df_dias = df_dias.reset_index(drop=True)\n",
    "df_comida = df_comida.reset_index(drop=True) #PRECISA"
   ]
  },
  {
   "cell_type": "code",
   "execution_count": 289,
   "metadata": {},
   "outputs": [],
   "source": [
    "df = pd.concat([df_dias, df_comida], axis=1,join=\"inner\") #PRECISA"
   ]
  },
  {
   "cell_type": "code",
   "execution_count": 290,
   "metadata": {},
   "outputs": [
    {
     "data": {
      "text/html": [
       "<div>\n",
       "<style scoped>\n",
       "    .dataframe tbody tr th:only-of-type {\n",
       "        vertical-align: middle;\n",
       "    }\n",
       "\n",
       "    .dataframe tbody tr th {\n",
       "        vertical-align: top;\n",
       "    }\n",
       "\n",
       "    .dataframe thead th {\n",
       "        text-align: right;\n",
       "    }\n",
       "</style>\n",
       "<table border=\"1\" class=\"dataframe\">\n",
       "  <thead>\n",
       "    <tr style=\"text-align: right;\">\n",
       "      <th></th>\n",
       "      <th>data</th>\n",
       "      <th>dia_semana</th>\n",
       "      <th>Almoço</th>\n",
       "      <th>Jantar</th>\n",
       "      <th>Saladas</th>\n",
       "      <th>Sobremesas</th>\n",
       "    </tr>\n",
       "  </thead>\n",
       "  <tbody>\n",
       "    <tr>\n",
       "      <th>0</th>\n",
       "      <td>14/11</td>\n",
       "      <td>Seg</td>\n",
       "      <td></td>\n",
       "      <td></td>\n",
       "      <td></td>\n",
       "      <td>RU Santo André fechado. Motivo: Emenda - Fer...</td>\n",
       "    </tr>\n",
       "    <tr>\n",
       "      <th>1</th>\n",
       "      <td>15/11</td>\n",
       "      <td>Ter</td>\n",
       "      <td></td>\n",
       "      <td></td>\n",
       "      <td></td>\n",
       "      <td>RU Santo André fechado. Motivo: Feriado RU S...</td>\n",
       "    </tr>\n",
       "    <tr>\n",
       "      <th>2</th>\n",
       "      <td>16/11</td>\n",
       "      <td>Qua</td>\n",
       "      <td>Prato Principal: Quibe de carne Opção sem ca...</td>\n",
       "      <td>Prato Principal: Filé de frango ao molho de ...</td>\n",
       "      <td>Abobrinha Ralada, Alface Crespa, Grega</td>\n",
       "      <td>Manjar de Coco, Maçã</td>\n",
       "    </tr>\n",
       "    <tr>\n",
       "      <th>3</th>\n",
       "      <td>17/11</td>\n",
       "      <td>Qui</td>\n",
       "      <td>Prato Principal: Cubos Suíno ao Chimichurri ...</td>\n",
       "      <td>Prato Principal: Carne de panela Opção sem c...</td>\n",
       "      <td>Beterraba Ralada, Escarola, Cenoura Cozida</td>\n",
       "      <td>Gelatina de cereja, Banana</td>\n",
       "    </tr>\n",
       "    <tr>\n",
       "      <th>4</th>\n",
       "      <td>18/11</td>\n",
       "      <td>Sex</td>\n",
       "      <td>Prato Principal: Bife Grelhado Opção sem car...</td>\n",
       "      <td>Prato Principal: Strogonoff de Frango Opção ...</td>\n",
       "      <td>Acelga, Chuchu Ralado, Caponata</td>\n",
       "      <td>Bebezinho, Laranja</td>\n",
       "    </tr>\n",
       "    <tr>\n",
       "      <th>5</th>\n",
       "      <td>19/11</td>\n",
       "      <td>Sáb</td>\n",
       "      <td>Prato Principal: Frango à caçadora Opção sem...</td>\n",
       "      <td></td>\n",
       "      <td>Cenoura Ralada, Alface Crespa, Tomate e cebo...</td>\n",
       "      <td>Gelatina de Abacaxi, Melancia</td>\n",
       "    </tr>\n",
       "  </tbody>\n",
       "</table>\n",
       "</div>"
      ],
      "text/plain": [
       "    data dia_semana                                             Almoço  \\\n",
       "0  14/11        Seg                                                      \n",
       "1  15/11        Ter                                                      \n",
       "2  16/11        Qua    Prato Principal: Quibe de carne Opção sem ca...   \n",
       "3  17/11        Qui    Prato Principal: Cubos Suíno ao Chimichurri ...   \n",
       "4  18/11        Sex    Prato Principal: Bife Grelhado Opção sem car...   \n",
       "5  19/11        Sáb    Prato Principal: Frango à caçadora Opção sem...   \n",
       "\n",
       "                                              Jantar  \\\n",
       "0                                                      \n",
       "1                                                      \n",
       "2    Prato Principal: Filé de frango ao molho de ...   \n",
       "3    Prato Principal: Carne de panela Opção sem c...   \n",
       "4    Prato Principal: Strogonoff de Frango Opção ...   \n",
       "5                                                      \n",
       "\n",
       "                                             Saladas  \\\n",
       "0                                                      \n",
       "1                                                      \n",
       "2           Abobrinha Ralada, Alface Crespa, Grega     \n",
       "3       Beterraba Ralada, Escarola, Cenoura Cozida     \n",
       "4                  Acelga, Chuchu Ralado, Caponata     \n",
       "5    Cenoura Ralada, Alface Crespa, Tomate e cebo...   \n",
       "\n",
       "                                          Sobremesas  \n",
       "0    RU Santo André fechado. Motivo: Emenda - Fer...  \n",
       "1    RU Santo André fechado. Motivo: Feriado RU S...  \n",
       "2                               Manjar de Coco, Maçã  \n",
       "3                         Gelatina de cereja, Banana  \n",
       "4                                 Bebezinho, Laranja  \n",
       "5                      Gelatina de Abacaxi, Melancia  "
      ]
     },
     "metadata": {},
     "output_type": "display_data"
    }
   ],
   "source": [
    "display(df)"
   ]
  },
  {
   "cell_type": "code",
   "execution_count": 292,
   "metadata": {},
   "outputs": [
    {
     "data": {
      "text/plain": [
       "[{'data': '14/11',\n",
       "  'dia_semana': 'Seg',\n",
       "  'Almoço': '  ',\n",
       "  'Jantar': '  ',\n",
       "  'Saladas': '  ',\n",
       "  'Sobremesas': '  RU Santo André fechado. Motivo: Emenda - Feriado  RU São Bernardo fechado. Motivo:'},\n",
       " {'data': '15/11',\n",
       "  'dia_semana': 'Ter',\n",
       "  'Almoço': '  ',\n",
       "  'Jantar': '  ',\n",
       "  'Saladas': '  ',\n",
       "  'Sobremesas': '  RU Santo André fechado. Motivo: Feriado RU São Bernardo fechado. Motivo:'},\n",
       " {'data': '16/11',\n",
       "  'dia_semana': 'Qua',\n",
       "  'Almoço': '  Prato Principal: Quibe de carne Opção sem carne: Croquete de ervilha seca Guarnição: Cenoura sauté ',\n",
       "  'Jantar': '  Prato Principal: Filé de frango ao molho de ervas Opção sem carne: PTS Xadrez Guarnição: Macarrão ao alho e óleo ',\n",
       "  'Saladas': '  Abobrinha Ralada, Alface Crespa, Grega  ',\n",
       "  'Sobremesas': '  Manjar de Coco, Maçã'},\n",
       " {'data': '17/11',\n",
       "  'dia_semana': 'Qui',\n",
       "  'Almoço': '  Prato Principal: Cubos Suíno ao Chimichurri Opção sem carne: PTS refogada com azeitonas Guarnição: Virado de couve ',\n",
       "  'Jantar': '  Prato Principal: Carne de panela Opção sem carne: Hambúrguer de grão de bico Guarnição: Repolho refogado ',\n",
       "  'Saladas': '  Beterraba Ralada, Escarola, Cenoura Cozida  ',\n",
       "  'Sobremesas': '  Gelatina de cereja, Banana'},\n",
       " {'data': '18/11',\n",
       "  'dia_semana': 'Sex',\n",
       "  'Almoço': '  Prato Principal: Bife Grelhado Opção sem carne: Lentilha com couve-flor Guarnição: Polenta ',\n",
       "  'Jantar': '  Prato Principal: Strogonoff de Frango Opção sem carne: Strogonoff de PTS Guarnição: Batata rústica ',\n",
       "  'Saladas': '  Acelga, Chuchu Ralado, Caponata  ',\n",
       "  'Sobremesas': '  Bebezinho, Laranja'},\n",
       " {'data': '19/11',\n",
       "  'dia_semana': 'Sáb',\n",
       "  'Almoço': '  Prato Principal: Frango à caçadora Opção sem carne: Abobrinha refogada ',\n",
       "  'Jantar': '  ',\n",
       "  'Saladas': '  Cenoura Ralada, Alface Crespa, Tomate e cebola  ',\n",
       "  'Sobremesas': '  Gelatina de Abacaxi, Melancia'}]"
      ]
     },
     "execution_count": 292,
     "metadata": {},
     "output_type": "execute_result"
    }
   ],
   "source": [
    "json.loads(df.to_json(orient='records')) #PRECISA"
   ]
  },
  {
   "cell_type": "code",
   "execution_count": 291,
   "metadata": {},
   "outputs": [
    {
     "data": {
      "text/plain": [
       "'\\nJson que guardaremos no Atlas\\n{\\n    \"data\" : \"15/11\",\\n    \"dia_semana\" : \"Terça-feira\",\\n    \\n    \"almoço\" : {\\n        \"Principal\":\"Prato Principal\",\\n        \"vegetariano:\":\"vegetariano\",\\n        \"Guarnição\" : \"Guarnição\"\\n        \"salada\" : \"sobremesa\"\\n        \"sobremesa\" : \"sobremesa\"\\n    },\\n    \"Jantar\" : {\\n        \"Principal\":\"Prato Principal\",\\n        \"vegetariano:\":\"vegetariano\",\\n        \"Guarnição\" : \"Guarnição\"\\n        \"salada\" : \"sobremesa\"\\n        \"sobremesa\" : \"sobremesa\"\\n    }\\n}\\n'"
      ]
     },
     "execution_count": 291,
     "metadata": {},
     "output_type": "execute_result"
    }
   ],
   "source": [
    "\"\"\"\n",
    "Json que guardaremos no Atlas\n",
    "{\n",
    "    \"data\" : \"15/11\",\n",
    "    \"dia_semana\" : \"Terça-feira\",\n",
    "    \n",
    "    \"almoço\" : {\n",
    "        \"Principal\":\"Prato Principal\",\n",
    "        \"vegetariano:\":\"vegetariano\",\n",
    "        \"Guarnição\" : \"Guarnição\"\n",
    "        \"salada\" : \"sobremesa\"\n",
    "        \"sobremesa\" : \"sobremesa\"\n",
    "    },\n",
    "    \"Jantar\" : {\n",
    "        \"Principal\":\"Prato Principal\",\n",
    "        \"vegetariano:\":\"vegetariano\",\n",
    "        \"Guarnição\" : \"Guarnição\"\n",
    "        \"salada\" : \"sobremesa\"\n",
    "        \"sobremesa\" : \"sobremesa\"\n",
    "    }\n",
    "}\n",
    "\"\"\"\n",
    "\n",
    "\n"
   ]
  },
  {
   "cell_type": "code",
   "execution_count": null,
   "metadata": {},
   "outputs": [],
   "source": []
  }
 ],
 "metadata": {
  "kernelspec": {
   "display_name": "Python 3.8.0 ('venv': venv)",
   "language": "python",
   "name": "python3"
  },
  "language_info": {
   "codemirror_mode": {
    "name": "ipython",
    "version": 3
   },
   "file_extension": ".py",
   "mimetype": "text/x-python",
   "name": "python",
   "nbconvert_exporter": "python",
   "pygments_lexer": "ipython3",
   "version": "3.8.0"
  },
  "orig_nbformat": 4,
  "vscode": {
   "interpreter": {
    "hash": "c5bedef499970840ad477fbdef9361e6005ba3e26634ee87f807ae9e001ba383"
   }
  }
 },
 "nbformat": 4,
 "nbformat_minor": 2
}
